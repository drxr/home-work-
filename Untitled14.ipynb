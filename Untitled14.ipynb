{
  "nbformat": 4,
  "nbformat_minor": 0,
  "metadata": {
    "colab": {
      "name": "Untitled14.ipynb",
      "provenance": [],
      "collapsed_sections": [],
      "authorship_tag": "ABX9TyMA8w2WntzPB9qME1t6Hcvk",
      "include_colab_link": true
    },
    "kernelspec": {
      "name": "python3",
      "display_name": "Python 3"
    },
    "language_info": {
      "name": "python"
    }
  },
  "cells": [
    {
      "cell_type": "markdown",
      "metadata": {
        "id": "view-in-github",
        "colab_type": "text"
      },
      "source": [
        "<a href=\"https://colab.research.google.com/github/drxr/home-work-/blob/main/Untitled14.ipynb\" target=\"_parent\"><img src=\"https://colab.research.google.com/assets/colab-badge.svg\" alt=\"Open In Colab\"/></a>"
      ]
    },
    {
      "cell_type": "code",
      "metadata": {
        "id": "wBtIdy3xgESa"
      },
      "source": [
        "import sqlite3"
      ],
      "execution_count": null,
      "outputs": []
    },
    {
      "cell_type": "code",
      "metadata": {
        "colab": {
          "base_uri": "https://localhost:8080/",
          "height": 35
        },
        "id": "kj2hycCUgIm9",
        "outputId": "ab0ae144-8023-4c44-d255-994a97c2579e"
      },
      "source": [
        "'https://content.codecademy.com/courses/beautifulsoup/cacao/index.html'"
      ],
      "execution_count": 2,
      "outputs": [
        {
          "output_type": "execute_result",
          "data": {
            "application/vnd.google.colaboratory.intrinsic+json": {
              "type": "string"
            },
            "text/plain": [
              "'https://content.codecademy.com/courses/beautifulsoup/cacao/index.html'"
            ]
          },
          "metadata": {
            "tags": []
          },
          "execution_count": 2
        }
      ]
    },
    {
      "cell_type": "code",
      "metadata": {
        "colab": {
          "base_uri": "https://localhost:8080/",
          "height": 351
        },
        "id": "CznpJr26u10C",
        "outputId": "99bda34a-ff69-4475-a04c-cd3975d59a4e"
      },
      "source": [
        "import pandas as pd\n",
        "\n",
        "df = pd.read_html('https://smi.adm-nao.ru/informaciya-o-predostavlenii-gosudarstvennyh-uslug/')\n",
        "df[0]"
      ],
      "execution_count": null,
      "outputs": [
        {
          "output_type": "execute_result",
          "data": {
            "text/html": [
              "<div>\n",
              "<style scoped>\n",
              "    .dataframe tbody tr th:only-of-type {\n",
              "        vertical-align: middle;\n",
              "    }\n",
              "\n",
              "    .dataframe tbody tr th {\n",
              "        vertical-align: top;\n",
              "    }\n",
              "\n",
              "    .dataframe thead th {\n",
              "        text-align: right;\n",
              "    }\n",
              "</style>\n",
              "<table border=\"1\" class=\"dataframe\">\n",
              "  <thead>\n",
              "    <tr style=\"text-align: right;\">\n",
              "      <th></th>\n",
              "      <th>0</th>\n",
              "      <th>1</th>\n",
              "      <th>2</th>\n",
              "      <th>3</th>\n",
              "    </tr>\n",
              "  </thead>\n",
              "  <tbody>\n",
              "    <tr>\n",
              "      <th>0</th>\n",
              "      <td>№ п/п</td>\n",
              "      <td>Наименование государственной услуги (функции)</td>\n",
              "      <td>Реквизиты приказа об утверждении административ...</td>\n",
              "      <td>Наличие межведомственного взаимодействия (да/н...</td>\n",
              "    </tr>\n",
              "    <tr>\n",
              "      <th>1</th>\n",
              "      <td>1. Государственные услуги, предоставляемые орг...</td>\n",
              "      <td>1. Государственные услуги, предоставляемые орг...</td>\n",
              "      <td>1. Государственные услуги, предоставляемые орг...</td>\n",
              "      <td>1. Государственные услуги, предоставляемые орг...</td>\n",
              "    </tr>\n",
              "    <tr>\n",
              "      <th>2</th>\n",
              "      <td>1.1</td>\n",
              "      <td>Согласование места и  (или) времени проведения...</td>\n",
              "      <td>Приказ от 12.04.2012 № 18Приказ от 16.03.2015 ...</td>\n",
              "      <td>нет</td>\n",
              "    </tr>\n",
              "    <tr>\n",
              "      <th>3</th>\n",
              "      <td>1.2</td>\n",
              "      <td>Постановка на учет оленеводов и чумработниц в ...</td>\n",
              "      <td>Приказ от 31.12.2015 № 33  Приложение  Приказ ...</td>\n",
              "      <td>да</td>\n",
              "    </tr>\n",
              "    <tr>\n",
              "      <th>4</th>\n",
              "      <td>2. Государственные функции, исполняемые органо...</td>\n",
              "      <td>2. Государственные функции, исполняемые органо...</td>\n",
              "      <td>2. Государственные функции, исполняемые органо...</td>\n",
              "      <td>2. Государственные функции, исполняемые органо...</td>\n",
              "    </tr>\n",
              "    <tr>\n",
              "      <th>5</th>\n",
              "      <td>NaN</td>\n",
              "      <td>NaN</td>\n",
              "      <td>NaN</td>\n",
              "      <td>NaN</td>\n",
              "    </tr>\n",
              "    <tr>\n",
              "      <th>6</th>\n",
              "      <td>NaN</td>\n",
              "      <td>NaN</td>\n",
              "      <td>NaN</td>\n",
              "      <td>NaN</td>\n",
              "    </tr>\n",
              "  </tbody>\n",
              "</table>\n",
              "</div>"
            ],
            "text/plain": [
              "                                                   0  ...                                                  3\n",
              "0                                              № п/п  ...  Наличие межведомственного взаимодействия (да/н...\n",
              "1  1. Государственные услуги, предоставляемые орг...  ...  1. Государственные услуги, предоставляемые орг...\n",
              "2                                                1.1  ...                                                нет\n",
              "3                                                1.2  ...                                                 да\n",
              "4  2. Государственные функции, исполняемые органо...  ...  2. Государственные функции, исполняемые органо...\n",
              "5                                                NaN  ...                                                NaN\n",
              "6                                                NaN  ...                                                NaN\n",
              "\n",
              "[7 rows x 4 columns]"
            ]
          },
          "metadata": {
            "tags": []
          },
          "execution_count": 13
        }
      ]
    },
    {
      "cell_type": "code",
      "metadata": {
        "colab": {
          "base_uri": "https://localhost:8080/"
        },
        "id": "hiZo4ESCubBj",
        "outputId": "a119abb2-6fc2-40be-a9be-0550606808ce"
      },
      "source": [
        "# Write your code here\n",
        "import random\n",
        "import sqlite3\n",
        "\n",
        "\n",
        "conn = sqlite3.connect('/content/card.s3db')\n",
        "\n",
        "def luhn():\n",
        "    bank_id = '400000'\n",
        "    user_id = ''\n",
        "    for num in range(9):\n",
        "        user_id += str(random.randint(0, 9))\n",
        "    card_num = bank_id + user_id\n",
        "    lst = []\n",
        "    for i in range(len(card_num)):\n",
        "        if i % 2 == 0:\n",
        "            num = int(card_num[i]) * 2\n",
        "            if num >= 10:\n",
        "                num -= 9\n",
        "                lst.append(num)\n",
        "            else:\n",
        "                lst.append(num)\n",
        "        else:\n",
        "            num = int(card_num[i])\n",
        "            lst.append(num)\n",
        "    checksum = 10 - sum(lst) % 10\n",
        "    if checksum == 10:\n",
        "        checksum = 0\n",
        "    card_num += str(checksum)\n",
        "    return card_num\n",
        "\n",
        "def check_luhn(transfer_card_number):\n",
        "    lst = []\n",
        "    for i in range(len(transfer_card_number) - 1):\n",
        "        if i % 2 == 0:\n",
        "            num = int(transfer_card_number[i]) * 2\n",
        "            if num >= 10:\n",
        "                num -= 9\n",
        "                lst.append(num)\n",
        "            else:\n",
        "                lst.append(num)\n",
        "        else:\n",
        "            num = int(transfer_card_number[i])\n",
        "            lst.append(num)\n",
        "    checksum = 10 - sum(lst) % 10\n",
        "    if checksum == 10:\n",
        "        checksum = 0\n",
        "    return checksum == int(transfer_card_number) % 10\n",
        "\n",
        "def check_card(transfer_card_number):\n",
        "    cur = conn.cursor()\n",
        "    cur.execute('SELECT * FROM card WHERE number = ?;', (transfer_card_number,))\n",
        "    res = cur.fetchone()\n",
        "    conn.commit()\n",
        "    if res == None:\n",
        "        return 0\n",
        "    return len(res)\n",
        "\n",
        "def main_menu():\n",
        "    print('1. Create an account\\n2. Log into account\\n0. Exit')\n",
        "    n = int(input())\n",
        "    if n not in [1, 2, 0]:\n",
        "        print('Wrong option!')\n",
        "        main_menu()\n",
        "    else:\n",
        "        coordinator(n)\n",
        "\n",
        "def login_page():\n",
        "    card_input = str(input('Enter your card number: '))\n",
        "    pin_input = str(input('Enter your PIN: '))\n",
        "    cur = conn.cursor()\n",
        "    cur.execute('SELECT * FROM card WHERE number = ?;', (card_input,))\n",
        "    res = cur.fetchall()\n",
        "    conn.commit()\n",
        "    if len(res[0][1]) != 0 and res[0][2] == pin_input:\n",
        "        print('You have successfully logged in!')\n",
        "        personal_page(res[0][1])\n",
        "    else:\n",
        "        print('Wrong card number or PIN!')\n",
        "        main_menu()\n",
        "\n",
        "def personal_page(card_number):\n",
        "    print('1. Balance\\n2. Add income\\n3. Do transfer\\n4. Close account\\n5. Log out\\n0. Exit')\n",
        "    n = int(input())\n",
        "    if n not in [1, 2, 3, 4, 5, 0]:\n",
        "        print('Wrong option!')\n",
        "        personal_page(card_number)\n",
        "    elif n == 1:\n",
        "        cur = conn.cursor()\n",
        "        res = cur.execute('SELECT * FROM card WHERE number = ?', (card_number,)).fetchone()\n",
        "        conn.commit()\n",
        "        print('Balance: {}'.format(res[3]))\n",
        "        personal_page(card_number)\n",
        "    elif n == 2:\n",
        "        income = int(input('Enter income: '))\n",
        "        cur = conn.cursor()\n",
        "        cur.execute('UPDATE card SET balance = balance + ? WHERE number = ?', (income, card_number))\n",
        "        conn.commit()\n",
        "        print('Income was added!')\n",
        "        personal_page(card_number)\n",
        "    elif n == 3:\n",
        "        transfer_card_number = str(input('Enter card number: '))\n",
        "        if check_luhn(transfer_card_number) is not True:\n",
        "            print('Probably you made a mistake in the card number. Please try again!')\n",
        "            personal_page(card_number)\n",
        "        elif check_card(transfer_card_number) == 0:\n",
        "            print('Such a card does not exist.')\n",
        "            personal_page(card_number)\n",
        "        elif transfer_card_number == card_number:\n",
        "                print(\"You can't transfer money to the same account!\")\n",
        "                personal_page(card_number)\n",
        "        elif check_luhn(transfer_card_number) is True and check_card(transfer_card_number) > 0:\n",
        "            amount = int(input('Enter how much money you want to transfer: '))\n",
        "            cur = conn.cursor()\n",
        "            cur.execute('SELECT * FROM card WHERE number = ?;', (card_number,))\n",
        "            res = cur.fetchone()\n",
        "            conn.commit()\n",
        "            if res[-1] >= amount:\n",
        "                cur = conn.cursor()\n",
        "                cur.execute('UPDATE card SET balance = balance + ? WHERE number = ?', (amount, transfer_card_number))\n",
        "                cur.execute('UPDATE card SET balance = balance - ? WHERE number = ?', (amount, card_number))\n",
        "                conn.commit()\n",
        "                print('Success!')\n",
        "                personal_page(card_number)\n",
        "            else:\n",
        "                print('Not enough money!')\n",
        "                peronal_page(card_number)\n",
        "    elif n == 4:\n",
        "        cur = conn.cursor()\n",
        "        cur.execute('DELETE FROM card WHERE number = ?', (card_number,))\n",
        "        conn.commit()\n",
        "        print('The account has been closed!')\n",
        "        main_menu()\n",
        "    elif n == 5:\n",
        "        print('You have successfully logged out!')\n",
        "        main_menu()\n",
        "    elif n == 0:\n",
        "        coordinator(0)\n",
        "        exit()\n",
        "\n",
        "def create_account():\n",
        "    pin = ''\n",
        "    for num in range(4):\n",
        "        pin += str(random.randint(0, 9))\n",
        "    card_number = luhn()\n",
        "    print('Your card has been created')\n",
        "    print('Your card number:\\n{}'.format(card_number))\n",
        "    print('Your card PIN:\\n{}'.format(pin))\n",
        "    cur = conn.cursor()\n",
        "    cur.execute('''CREATE TABLE IF NOT EXISTS card (\n",
        "        id INTEGER PRIMARY KEY, \n",
        "        number TEXT, \n",
        "        pin TEXT, \n",
        "        balance INTEGER DEFAULT 0);\n",
        "        ''')\n",
        "    cur.execute('INSERT INTO card (number, pin) VALUES (?, ?)', (card_number, pin))\n",
        "    conn.commit()\n",
        "    main_menu()\n",
        "\n",
        "def coordinator(n):\n",
        "    if n == 1:\n",
        "        create_account()\n",
        "    elif n == 2:\n",
        "        login_page()\n",
        "    elif n == 0:\n",
        "        print('Bye!')\n",
        "        exit()\n",
        "\n",
        "if __name__ == '__main__':\n",
        "    main_menu()\n"
      ],
      "execution_count": 11,
      "outputs": [
        {
          "output_type": "stream",
          "text": [
            "1. Create an account\n",
            "2. Log into account\n",
            "0. Exit\n",
            "2\n",
            "Enter your card number: 4000000362747067\n",
            "Enter your PIN: 9449\n",
            "You have successfully logged in!\n",
            "1. Balance\n",
            "2. Add income\n",
            "3. Do transfer\n",
            "4. Close account\n",
            "5. Log out\n",
            "0. Exit\n",
            "3\n",
            "Enter card number: 4000000604674202\n",
            "Such a card does not exist\n",
            "1. Balance\n",
            "2. Add income\n",
            "3. Do transfer\n",
            "4. Close account\n",
            "5. Log out\n",
            "0. Exit\n",
            "0\n",
            "Bye!\n"
          ],
          "name": "stdout"
        }
      ]
    },
    {
      "cell_type": "code",
      "metadata": {
        "colab": {
          "base_uri": "https://localhost:8080/"
        },
        "id": "QWyMDK-dx1Qj",
        "outputId": "06000ace-5c80-4bcb-ec97-7798a0b8b712"
      },
      "source": [
        "def luhn():\n",
        "    bank_id = '400000'\n",
        "    user_id = ''\n",
        "    for num in range(9):\n",
        "        user_id += str(random.randint(0, 9))\n",
        "    card_num = bank_id + user_id\n",
        "    print(card_num)\n",
        "    lst = []\n",
        "    for i in range(len(card_num)):\n",
        "        if i % 2 == 0:\n",
        "            num = int(card_num[i]) * 2\n",
        "            if num >= 10:\n",
        "                num -= 9\n",
        "                lst.append(num)\n",
        "            else:\n",
        "                lst.append(num)\n",
        "        else:\n",
        "            num = int(card_num[i])\n",
        "            lst.append(num)\n",
        "    checksum = 10 - sum(lst) % 10\n",
        "    if checksum == 10:\n",
        "        checksum = 0\n",
        "    card_num += str(checksum)\n",
        "    \n",
        "\n",
        "luhn()\n",
        "\n",
        "'4000000604674202'"
      ],
      "execution_count": null,
      "outputs": [
        {
          "output_type": "stream",
          "text": [
            "400000060467420\n",
            "[8, 0, 0, 0, 0, 0, 0, 6, 0, 4, 3, 7, 8, 2, 0]\n",
            "38\n",
            "8\n",
            "2\n",
            "4000000604674202\n"
          ],
          "name": "stdout"
        }
      ]
    },
    {
      "cell_type": "code",
      "metadata": {
        "colab": {
          "base_uri": "https://localhost:8080/"
        },
        "id": "CFICEYDFNnP-",
        "outputId": "a76fa58f-2dd7-4d4b-b7c5-f6030fa8a3b2"
      },
      "source": [
        "import sqlite3\n",
        "conn = sqlite3.connect('/content/card.s3db')\n",
        "cur = conn.cursor()\n",
        "cur.execute('SELECT * FROM card;')\n",
        "res = cur.fetchall()\n",
        "res"
      ],
      "execution_count": 1,
      "outputs": [
        {
          "output_type": "execute_result",
          "data": {
            "text/plain": [
              "[(1, '4000007485401209', '4270', 0),\n",
              " (2, '4000002743367136', '0825', 25000),\n",
              " (4, '4000008020003419', '1036', 0),\n",
              " (5, '4000008191129456', '8572', 0),\n",
              " (6, '4000000362747067', '9449', 25000),\n",
              " (7, '4000007836605078', '7670', 0),\n",
              " (8, '4000009916541777', '9452', 0),\n",
              " (9, '4000001294763412', '4337', 0),\n",
              " (10, '4000003355827110', '2871', 0)]"
            ]
          },
          "metadata": {
            "tags": []
          },
          "execution_count": 1
        }
      ]
    },
    {
      "cell_type": "code",
      "metadata": {
        "colab": {
          "base_uri": "https://localhost:8080/"
        },
        "id": "URBKnhR1bKt4",
        "outputId": "20378c5f-e0e2-4cab-82f6-e9a3372f5b71"
      },
      "source": [
        "cur = conn.cursor()\n",
        "cur.execute('SELECT * FROM card WHERE number = ?;', (4000000362747069,))\n",
        "res = cur.fetchone()\n",
        "conn.commit()\n",
        "if res == None:\n",
        "    print('!')"
      ],
      "execution_count": 10,
      "outputs": [
        {
          "output_type": "stream",
          "text": [
            "!\n"
          ],
          "name": "stdout"
        }
      ]
    }
  ]
}