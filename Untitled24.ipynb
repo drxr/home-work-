{
  "nbformat": 4,
  "nbformat_minor": 0,
  "metadata": {
    "colab": {
      "name": "Untitled24.ipynb",
      "provenance": [],
      "authorship_tag": "ABX9TyOjdAlYkCDGiQyIpkGPPyy6",
      "include_colab_link": true
    },
    "kernelspec": {
      "name": "python3",
      "display_name": "Python 3"
    },
    "language_info": {
      "name": "python"
    }
  },
  "cells": [
    {
      "cell_type": "markdown",
      "metadata": {
        "id": "view-in-github",
        "colab_type": "text"
      },
      "source": [
        "<a href=\"https://colab.research.google.com/github/drxr/home-work-/blob/main/Untitled24.ipynb\" target=\"_parent\"><img src=\"https://colab.research.google.com/assets/colab-badge.svg\" alt=\"Open In Colab\"/></a>"
      ]
    },
    {
      "cell_type": "code",
      "metadata": {
        "id": "gMk6lUxhEojK"
      },
      "source": [
        "import pandas as pd"
      ],
      "execution_count": 1,
      "outputs": []
    },
    {
      "cell_type": "markdown",
      "metadata": {
        "id": "_e8MtkyrGg6a"
      },
      "source": [
        "1. Загружаем набор данных о каких-то гражданах и смотрим на качество данных, в нашем случае это согласованность"
      ]
    },
    {
      "cell_type": "code",
      "metadata": {
        "colab": {
          "base_uri": "https://localhost:8080/",
          "height": 204
        },
        "id": "KYTByIcrEr5J",
        "outputId": "3107c1aa-a198-4b54-e4eb-5aac023c42e4"
      },
      "source": [
        "# загружаем датасет и смотрим на первые пять строк на предмет правильности загрузки и чистоты данных\n",
        "df = pd.read_csv('/content/dirty_data.csv', sep=';')\n",
        "df.head()"
      ],
      "execution_count": 23,
      "outputs": [
        {
          "output_type": "execute_result",
          "data": {
            "text/html": [
              "<div>\n",
              "<style scoped>\n",
              "    .dataframe tbody tr th:only-of-type {\n",
              "        vertical-align: middle;\n",
              "    }\n",
              "\n",
              "    .dataframe tbody tr th {\n",
              "        vertical-align: top;\n",
              "    }\n",
              "\n",
              "    .dataframe thead th {\n",
              "        text-align: right;\n",
              "    }\n",
              "</style>\n",
              "<table border=\"1\" class=\"dataframe\">\n",
              "  <thead>\n",
              "    <tr style=\"text-align: right;\">\n",
              "      <th></th>\n",
              "      <th>name</th>\n",
              "      <th>second_name</th>\n",
              "      <th>surname</th>\n",
              "      <th>phone</th>\n",
              "      <th>email</th>\n",
              "      <th>age</th>\n",
              "    </tr>\n",
              "  </thead>\n",
              "  <tbody>\n",
              "    <tr>\n",
              "      <th>0</th>\n",
              "      <td>Иванов</td>\n",
              "      <td>Иван</td>\n",
              "      <td>Иванович</td>\n",
              "      <td>79101121212</td>\n",
              "      <td>iv@mail.ru</td>\n",
              "      <td>28</td>\n",
              "    </tr>\n",
              "    <tr>\n",
              "      <th>1</th>\n",
              "      <td>Петров</td>\n",
              "      <td>Петр</td>\n",
              "      <td>Петрович</td>\n",
              "      <td>89206666000</td>\n",
              "      <td>petr@list,ru</td>\n",
              "      <td>37</td>\n",
              "    </tr>\n",
              "    <tr>\n",
              "      <th>2</th>\n",
              "      <td>Сидоров</td>\n",
              "      <td>Сидор</td>\n",
              "      <td>Сидорович</td>\n",
              "      <td>89151151515</td>\n",
              "      <td>sidor yandex.ru</td>\n",
              "      <td>25</td>\n",
              "    </tr>\n",
              "    <tr>\n",
              "      <th>3</th>\n",
              "      <td>Ельпидифоров</td>\n",
              "      <td>Ельпидифор</td>\n",
              "      <td>Ельпидифирович</td>\n",
              "      <td>8-911-578-68-67</td>\n",
              "      <td>el@yahoo.com</td>\n",
              "      <td>14</td>\n",
              "    </tr>\n",
              "    <tr>\n",
              "      <th>4</th>\n",
              "      <td>Сколопендрова</td>\n",
              "      <td>Аспид</td>\n",
              "      <td>Серпентовна</td>\n",
              "      <td>79101001525</td>\n",
              "      <td>snake@mannet.ru</td>\n",
              "      <td>31</td>\n",
              "    </tr>\n",
              "  </tbody>\n",
              "</table>\n",
              "</div>"
            ],
            "text/plain": [
              "            name second_name  ...            email age\n",
              "0         Иванов        Иван  ...       iv@mail.ru  28\n",
              "1         Петров        Петр  ...     petr@list,ru  37\n",
              "2        Сидоров       Сидор  ...  sidor yandex.ru  25\n",
              "3   Ельпидифоров  Ельпидифор  ...     el@yahoo.com  14\n",
              "4  Сколопендрова       Аспид  ...  snake@mannet.ru  31\n",
              "\n",
              "[5 rows x 6 columns]"
            ]
          },
          "metadata": {
            "tags": []
          },
          "execution_count": 23
        }
      ]
    },
    {
      "cell_type": "code",
      "metadata": {
        "colab": {
          "base_uri": "https://localhost:8080/"
        },
        "id": "ttJmFXmeHKw2",
        "outputId": "4285684b-9682-47e7-bc00-12e30d899c41"
      },
      "source": [
        "# проверяем типы колонок на соответствие\n",
        "df.info()"
      ],
      "execution_count": 25,
      "outputs": [
        {
          "output_type": "stream",
          "text": [
            "<class 'pandas.core.frame.DataFrame'>\n",
            "RangeIndex: 5 entries, 0 to 4\n",
            "Data columns (total 6 columns):\n",
            " #   Column       Non-Null Count  Dtype \n",
            "---  ------       --------------  ----- \n",
            " 0   name         5 non-null      object\n",
            " 1   second_name  5 non-null      object\n",
            " 2   surname      5 non-null      object\n",
            " 3   phone        5 non-null      object\n",
            " 4   email        5 non-null      object\n",
            " 5   age          5 non-null      object\n",
            "dtypes: object(6)\n",
            "memory usage: 368.0+ bytes\n"
          ],
          "name": "stdout"
        }
      ]
    },
    {
      "cell_type": "markdown",
      "metadata": {
        "id": "3467Uh1bGvMc"
      },
      "source": [
        "2. Колонка возраст имеет тип строка, то есть мы не можем выполнять с ней арифметические операции, например, посчитать средний возраст, минимальное и максимальное значение или разбить на возрастные группы"
      ]
    },
    {
      "cell_type": "code",
      "metadata": {
        "id": "a52xh0i7FSz_"
      },
      "source": [
        "# переводим колонку в возраст в числовой тип\n",
        "df.age = df.age.astype('int')"
      ],
      "execution_count": 8,
      "outputs": []
    },
    {
      "cell_type": "code",
      "metadata": {
        "colab": {
          "base_uri": "https://localhost:8080/"
        },
        "id": "HE0gdNyrFYhM",
        "outputId": "ee3b4052-4d2a-4254-923a-99845fc9cf42"
      },
      "source": [
        "df.info()"
      ],
      "execution_count": 9,
      "outputs": [
        {
          "output_type": "stream",
          "text": [
            "<class 'pandas.core.frame.DataFrame'>\n",
            "RangeIndex: 5 entries, 0 to 4\n",
            "Data columns (total 6 columns):\n",
            " #   Column       Non-Null Count  Dtype \n",
            "---  ------       --------------  ----- \n",
            " 0   name         5 non-null      object\n",
            " 1   second_name  5 non-null      object\n",
            " 2   surname      5 non-null      object\n",
            " 3   phone        5 non-null      object\n",
            " 4   email        5 non-null      object\n",
            " 5   age          5 non-null      int64 \n",
            "dtypes: int64(1), object(5)\n",
            "memory usage: 368.0+ bytes\n"
          ],
          "name": "stdout"
        }
      ]
    },
    {
      "cell_type": "markdown",
      "metadata": {
        "id": "rf7JySPTH6PA"
      },
      "source": [
        "3. Колонка номер телефона не согласована - нет единообразия."
      ]
    },
    {
      "cell_type": "code",
      "metadata": {
        "id": "JyHwmikuFHz2"
      },
      "source": [
        "# приводим колонку номер телефона к единому формату\n",
        "df.phone = df.phone.str.replace('-', '')\n",
        "df.phone = df.phone.apply(lambda row: '7' + row[1:])"
      ],
      "execution_count": 26,
      "outputs": []
    },
    {
      "cell_type": "code",
      "metadata": {
        "colab": {
          "base_uri": "https://localhost:8080/",
          "height": 204
        },
        "id": "AdVAJIpBFEL6",
        "outputId": "9f6743ce-1310-4f13-a8d7-b120a1a41c78"
      },
      "source": [
        "df.head()"
      ],
      "execution_count": 27,
      "outputs": [
        {
          "output_type": "execute_result",
          "data": {
            "text/html": [
              "<div>\n",
              "<style scoped>\n",
              "    .dataframe tbody tr th:only-of-type {\n",
              "        vertical-align: middle;\n",
              "    }\n",
              "\n",
              "    .dataframe tbody tr th {\n",
              "        vertical-align: top;\n",
              "    }\n",
              "\n",
              "    .dataframe thead th {\n",
              "        text-align: right;\n",
              "    }\n",
              "</style>\n",
              "<table border=\"1\" class=\"dataframe\">\n",
              "  <thead>\n",
              "    <tr style=\"text-align: right;\">\n",
              "      <th></th>\n",
              "      <th>name</th>\n",
              "      <th>second_name</th>\n",
              "      <th>surname</th>\n",
              "      <th>phone</th>\n",
              "      <th>email</th>\n",
              "      <th>age</th>\n",
              "    </tr>\n",
              "  </thead>\n",
              "  <tbody>\n",
              "    <tr>\n",
              "      <th>0</th>\n",
              "      <td>Иванов</td>\n",
              "      <td>Иван</td>\n",
              "      <td>Иванович</td>\n",
              "      <td>79101121212</td>\n",
              "      <td>iv@mail.ru</td>\n",
              "      <td>28</td>\n",
              "    </tr>\n",
              "    <tr>\n",
              "      <th>1</th>\n",
              "      <td>Петров</td>\n",
              "      <td>Петр</td>\n",
              "      <td>Петрович</td>\n",
              "      <td>79206666000</td>\n",
              "      <td>petr@list,ru</td>\n",
              "      <td>37</td>\n",
              "    </tr>\n",
              "    <tr>\n",
              "      <th>2</th>\n",
              "      <td>Сидоров</td>\n",
              "      <td>Сидор</td>\n",
              "      <td>Сидорович</td>\n",
              "      <td>79151151515</td>\n",
              "      <td>sidor yandex.ru</td>\n",
              "      <td>25</td>\n",
              "    </tr>\n",
              "    <tr>\n",
              "      <th>3</th>\n",
              "      <td>Ельпидифоров</td>\n",
              "      <td>Ельпидифор</td>\n",
              "      <td>Ельпидифирович</td>\n",
              "      <td>79115786867</td>\n",
              "      <td>el@yahoo.com</td>\n",
              "      <td>14</td>\n",
              "    </tr>\n",
              "    <tr>\n",
              "      <th>4</th>\n",
              "      <td>Сколопендрова</td>\n",
              "      <td>Аспид</td>\n",
              "      <td>Серпентовна</td>\n",
              "      <td>79101001525</td>\n",
              "      <td>snake@mannet.ru</td>\n",
              "      <td>31</td>\n",
              "    </tr>\n",
              "  </tbody>\n",
              "</table>\n",
              "</div>"
            ],
            "text/plain": [
              "            name second_name         surname        phone            email age\n",
              "0         Иванов        Иван        Иванович  79101121212       iv@mail.ru  28\n",
              "1         Петров        Петр        Петрович  79206666000     petr@list,ru  37\n",
              "2        Сидоров       Сидор       Сидорович  79151151515  sidor yandex.ru  25\n",
              "3   Ельпидифоров  Ельпидифор  Ельпидифирович  79115786867     el@yahoo.com  14\n",
              "4  Сколопендрова       Аспид     Серпентовна  79101001525  snake@mannet.ru  31"
            ]
          },
          "metadata": {
            "tags": []
          },
          "execution_count": 27
        }
      ]
    },
    {
      "cell_type": "markdown",
      "metadata": {
        "id": "ToxN_pXdIVSZ"
      },
      "source": [
        "4. Колонка электронная почта также заполнена с ошибками: если мы хотим быть уверенными, что письмо уйдет адресату необходимо привести данные в правильный вид"
      ]
    },
    {
      "cell_type": "code",
      "metadata": {
        "id": "gvfO94hGIiPI"
      },
      "source": [
        "df.email = df.email.str.replace(' ', '@')\n",
        "df.email = df.email.str.replace(',', '.')"
      ],
      "execution_count": 28,
      "outputs": []
    },
    {
      "cell_type": "code",
      "metadata": {
        "colab": {
          "base_uri": "https://localhost:8080/",
          "height": 204
        },
        "id": "bn8LZ7VtIr91",
        "outputId": "64f36c26-1de4-4c22-b4a5-2b59763d3e6e"
      },
      "source": [
        "df.head()"
      ],
      "execution_count": 29,
      "outputs": [
        {
          "output_type": "execute_result",
          "data": {
            "text/html": [
              "<div>\n",
              "<style scoped>\n",
              "    .dataframe tbody tr th:only-of-type {\n",
              "        vertical-align: middle;\n",
              "    }\n",
              "\n",
              "    .dataframe tbody tr th {\n",
              "        vertical-align: top;\n",
              "    }\n",
              "\n",
              "    .dataframe thead th {\n",
              "        text-align: right;\n",
              "    }\n",
              "</style>\n",
              "<table border=\"1\" class=\"dataframe\">\n",
              "  <thead>\n",
              "    <tr style=\"text-align: right;\">\n",
              "      <th></th>\n",
              "      <th>name</th>\n",
              "      <th>second_name</th>\n",
              "      <th>surname</th>\n",
              "      <th>phone</th>\n",
              "      <th>email</th>\n",
              "      <th>age</th>\n",
              "    </tr>\n",
              "  </thead>\n",
              "  <tbody>\n",
              "    <tr>\n",
              "      <th>0</th>\n",
              "      <td>Иванов</td>\n",
              "      <td>Иван</td>\n",
              "      <td>Иванович</td>\n",
              "      <td>79101121212</td>\n",
              "      <td>iv@mail.ru</td>\n",
              "      <td>28</td>\n",
              "    </tr>\n",
              "    <tr>\n",
              "      <th>1</th>\n",
              "      <td>Петров</td>\n",
              "      <td>Петр</td>\n",
              "      <td>Петрович</td>\n",
              "      <td>79206666000</td>\n",
              "      <td>petr@list.ru</td>\n",
              "      <td>37</td>\n",
              "    </tr>\n",
              "    <tr>\n",
              "      <th>2</th>\n",
              "      <td>Сидоров</td>\n",
              "      <td>Сидор</td>\n",
              "      <td>Сидорович</td>\n",
              "      <td>79151151515</td>\n",
              "      <td>sidor@yandex.ru</td>\n",
              "      <td>25</td>\n",
              "    </tr>\n",
              "    <tr>\n",
              "      <th>3</th>\n",
              "      <td>Ельпидифоров</td>\n",
              "      <td>Ельпидифор</td>\n",
              "      <td>Ельпидифирович</td>\n",
              "      <td>79115786867</td>\n",
              "      <td>el@yahoo.com</td>\n",
              "      <td>14</td>\n",
              "    </tr>\n",
              "    <tr>\n",
              "      <th>4</th>\n",
              "      <td>Сколопендрова</td>\n",
              "      <td>Аспид</td>\n",
              "      <td>Серпентовна</td>\n",
              "      <td>79101001525</td>\n",
              "      <td>snake@mannet.ru</td>\n",
              "      <td>31</td>\n",
              "    </tr>\n",
              "  </tbody>\n",
              "</table>\n",
              "</div>"
            ],
            "text/plain": [
              "            name second_name         surname        phone            email age\n",
              "0         Иванов        Иван        Иванович  79101121212       iv@mail.ru  28\n",
              "1         Петров        Петр        Петрович  79206666000     petr@list.ru  37\n",
              "2        Сидоров       Сидор       Сидорович  79151151515  sidor@yandex.ru  25\n",
              "3   Ельпидифоров  Ельпидифор  Ельпидифирович  79115786867     el@yahoo.com  14\n",
              "4  Сколопендрова       Аспид     Серпентовна  79101001525  snake@mannet.ru  31"
            ]
          },
          "metadata": {
            "tags": []
          },
          "execution_count": 29
        }
      ]
    },
    {
      "cell_type": "markdown",
      "metadata": {
        "id": "PRflpjhgIyMU"
      },
      "source": [
        "Таким образом, из-за несогласованности данных мы потратили время для того, чтобы привести данные в согласованный вид - теперь они в едином формате, также мы убрали недостоверность данных - ошибки в колонке электронная почта привели к тому, что адрес электронной почты нельзя использовать в таком виде (электронное письмо не уйдет адресату), также неверный формат колонки возраст привел к тому, что ее не получится проанализировать. "
      ]
    },
    {
      "cell_type": "code",
      "metadata": {
        "id": "WQ1hqsm1JXDz"
      },
      "source": [
        "#сохраним очищенные данные в новый файл\n",
        "df.to_csv('/content/clean_data.csv')"
      ],
      "execution_count": 30,
      "outputs": []
    },
    {
      "cell_type": "markdown",
      "metadata": {
        "id": "X98aZxIjJtG6"
      },
      "source": [
        "Загрузим очищенный файл с данными"
      ]
    },
    {
      "cell_type": "code",
      "metadata": {
        "id": "8PUr-GsmJxgs"
      },
      "source": [
        "clean = pd.read_csv('/content/clean_data.csv')"
      ],
      "execution_count": 31,
      "outputs": []
    },
    {
      "cell_type": "markdown",
      "metadata": {
        "id": "ELM-GZpJJ5ds"
      },
      "source": [
        "Плюс согласованных данных в том, что мы сразу можем извлекать из них информацию"
      ]
    },
    {
      "cell_type": "code",
      "metadata": {
        "colab": {
          "base_uri": "https://localhost:8080/"
        },
        "id": "vLghIiEVKBGn",
        "outputId": "6e14f634-b74b-4d33-d6d7-64068a55498c"
      },
      "source": [
        "print(f'Средний возраст граждан в выборке: {clean.age.mean()} лет.')\n",
        "print(f'Медианный возраст граждан в выборке: {clean.age.median()} лет.')\n",
        "print(f'В выборке {len(df)} человек.')"
      ],
      "execution_count": 37,
      "outputs": [
        {
          "output_type": "stream",
          "text": [
            "Средний возраст граждан в выборке: 27.0 лет.\n",
            "Медианный возраст граждан в выборке: 28.0 лет.\n",
            "В выборке 5 человек.\n"
          ],
          "name": "stdout"
        }
      ]
    },
    {
      "cell_type": "code",
      "metadata": {
        "id": "xNJ0r2CMKmFo"
      },
      "source": [
        "dirty = pd.read_csv('/content/dirty_data.csv', sep=';')"
      ],
      "execution_count": 35,
      "outputs": []
    },
    {
      "cell_type": "code",
      "metadata": {
        "colab": {
          "base_uri": "https://localhost:8080/"
        },
        "id": "HYG-b87fKpH7",
        "outputId": "aba43220-573e-4209-9984-a0cc70e58285"
      },
      "source": [
        "print(f'Средний возраст граждан в выборке: {dirty.age.mean()} лет.')"
      ],
      "execution_count": 40,
      "outputs": [
        {
          "output_type": "stream",
          "text": [
            "Средний возраст граждан в выборке: 567450286.2 лет.\n"
          ],
          "name": "stdout"
        }
      ]
    },
    {
      "cell_type": "markdown",
      "metadata": {
        "id": "ukOosJtDLBEo"
      },
      "source": [
        "567 миллионов лет в среднем живет человек в выборке с неочищенными данными )"
      ]
    }
  ]
}