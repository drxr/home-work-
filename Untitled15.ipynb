{
  "nbformat": 4,
  "nbformat_minor": 0,
  "metadata": {
    "colab": {
      "name": "Untitled15.ipynb",
      "provenance": [],
      "authorship_tag": "ABX9TyONyUwuTASZtrXDD62neiB7",
      "include_colab_link": true
    },
    "kernelspec": {
      "name": "python3",
      "display_name": "Python 3"
    },
    "language_info": {
      "name": "python"
    }
  },
  "cells": [
    {
      "cell_type": "markdown",
      "metadata": {
        "id": "view-in-github",
        "colab_type": "text"
      },
      "source": [
        "<a href=\"https://colab.research.google.com/github/drxr/home-work-/blob/main/Untitled15.ipynb\" target=\"_parent\"><img src=\"https://colab.research.google.com/assets/colab-badge.svg\" alt=\"Open In Colab\"/></a>"
      ]
    },
    {
      "cell_type": "code",
      "metadata": {
        "colab": {
          "base_uri": "https://localhost:8080/"
        },
        "id": "M-_1CAEpFY3d",
        "outputId": "fd4ae9e9-8b9b-43fc-b20f-7bc30a7107bc"
      },
      "source": [
        "import math\n",
        "\n",
        "\n",
        "loan = int(input('Enter the loan principal:\\n'))\n",
        "choice = input('''What do you want to calculate?\n",
        "type \"m\" for number of monthly payments,\n",
        "type \"p\" for the monthly payment\\n''')\n",
        "if choice == 'm':\n",
        "    monthly_payment = int(input('Enter the monthly payment:\\n'))\n",
        "    print(f'It will take {math.ceil(loan / monthly_payment)} months to repay the loan')\n",
        "elif choice == 'p':\n",
        "    months = int(input('Enter the number of months:\\n'))\n",
        "    payment = int(loan / months)\n",
        "    last_payment = loan - (months - 1) * payment\n",
        "    if payment == last_payment:\n",
        "        print(f'Your monthly payment = {payment}')\n",
        "    else:\n",
        "        print(f'Your monthly payment = {payment:.{0}f} and the last payment = {last_payment:.{0}f}.')\n"
      ],
      "execution_count": 13,
      "outputs": [
        {
          "output_type": "stream",
          "text": [
            "Enter the loan principal:\n",
            "1000\n",
            "What do you want to calculate?\n",
            "type \"m\" for number of monthly payments,\n",
            "type \"p\" for the monthly payment\n",
            "p\n",
            "Enter the number of months:\n",
            "9\n",
            "Your monthly payment = 111 and the last payment = 112.\n"
          ],
          "name": "stdout"
        }
      ]
    },
    {
      "cell_type": "code",
      "metadata": {
        "colab": {
          "base_uri": "https://localhost:8080/"
        },
        "id": "Rp1aea9LeGNl",
        "outputId": "73663ad3-fe6b-4fcd-a0b9-be28c77ed29c"
      },
      "source": [
        "import math\n",
        "import argparse\n",
        "\n",
        "\n",
        "def number_of_payments(loan, payment, interest):\n",
        "    loan, payment, interest = float(input('Enter the loan principal:\\n')), \\\n",
        "    float(input('Enter the monthly payment:\\n')), float(input('Enter the loan interest:\\n'))\n",
        "    interest_rate = interest / 1200\n",
        "    periods = math.log((payment / (payment - interest_rate * loan)), (1 + interest_rate))\n",
        "    if periods < 12:\n",
        "        print(f'It will take {math.ceil(periods)} months to repay this loan!')\n",
        "    else:\n",
        "        print(f'It will take {math.ceil(periods) // 12} years and {math.ceil(periods) % 12} months to repay this loan!')\n",
        "\n",
        "\n",
        "def monthly_payment(loan, periods, interest):\n",
        "    loan, periods, interest = float(input('Enter the loan principal:\\n')), \\\n",
        "    float(input('Enter the number of periods:\\n')), float(input('Enter the loan interest:\\n'))\n",
        "    interest_rate = interest / 1200\n",
        "    monthly_payment = loan * (interest_rate + interest_rate / ((1 + interest_rate) ** periods - 1))\n",
        "    print(f'Your monthly payment = {math.ceil(monthly_payment)}!')\n",
        "\n",
        "\n",
        "def principal(payment, periods, interest):\n",
        "    payment, periods, interest = float(input('Enter the annuity payment:\\n')), \\\n",
        "    float(input('Enter the number of periods:\\n')), float(input('Enter the loan interest:\\n'))\n",
        "    interest_rate = interest / 1200\n",
        "    loan_amount = payment / ((interest_rate * (1 + interest_rate) ** periods) / (((1 + interest_rate) ** periods) - 1))\n",
        "    print(f'Your loan principal = {int(loan_amount)}!')\n",
        "\n",
        "\n",
        "def different(loan, periods, interest):\n",
        "    interest_rate = interest / 1200\n",
        "    total_payment = 0\n",
        "    for month in range(1, periods+1):\n",
        "        payment = math.ceil(loan / periods + interest_rate * (loan - loan * (month - 1) / periods))\n",
        "        total_payment += payment\n",
        "        print(f'Month {month}: payment is {payment}')\n",
        "    print(f'\\nOverpayment = {total_payment - loan}')\n",
        "\n",
        "\n",
        "parser = argparse.ArgumentParser()\n",
        "\n",
        "choice = input('''What do you want to calculate?\n",
        "type \"n\" for number of monthly payments,\n",
        "type \"a\" for annuity monthly payment amount,\n",
        "type \"p\" for loan principal:\\n''')\n",
        "if choice == 'n':\n",
        "    number_of_payments()\n",
        "elif choice == 'a':\n",
        "    monthly_payment()\n",
        "elif choice == 'p':\n",
        "    principal()"
      ],
      "execution_count": 35,
      "outputs": [
        {
          "output_type": "stream",
          "text": [
            "What do you want to calculate?\n",
            "type \"n\" for number of monthly payments,\n",
            "type \"a\" for annuity monthly payment amount,\n",
            "type \"p\" for loan principal:\n",
            "p\n",
            "Enter the annuity payment:\n",
            "8721.8\n",
            "Enter the number of periods:\n",
            "120\n",
            "Enter the loan interest:\n",
            "5.6\n",
            "800000.3495701827\n"
          ],
          "name": "stdout"
        }
      ]
    },
    {
      "cell_type": "code",
      "metadata": {
        "colab": {
          "base_uri": "https://localhost:8080/"
        },
        "id": "f-m2NSscG3Eb",
        "outputId": "99457b0e-3027-448b-fcc9-9fc452bae4a4"
      },
      "source": [
        "import math\n",
        "math.ceil(1000000*((10/1200) + (10/1200)/((1+10/1200)**60 - 1)))"
      ],
      "execution_count": 26,
      "outputs": [
        {
          "output_type": "execute_result",
          "data": {
            "text/plain": [
              "21248"
            ]
          },
          "metadata": {
            "tags": []
          },
          "execution_count": 26
        }
      ]
    },
    {
      "cell_type": "code",
      "metadata": {
        "colab": {
          "base_uri": "https://localhost:8080/"
        },
        "id": "rAY1Qzrdz84e",
        "outputId": "22d639b9-3255-425e-97ad-7b040054416b"
      },
      "source": [
        "import math\n",
        "\n",
        "\n",
        "def different(loan, periods, interest):\n",
        "    interest_rate = interest / 1200\n",
        "    total_payment = 0\n",
        "    for month in range(1, periods+1):\n",
        "        payment = math.ceil(loan / periods + interest_rate * (loan - loan * (month - 1) / periods))\n",
        "        total_payment += payment\n",
        "        print(f'Month {month}: payment is {payment}')\n",
        "    print(f'\\nOverpayment = {total_payment - loan}')\n",
        "\n",
        "\n",
        "different(1000000, 10, 10)"
      ],
      "execution_count": 14,
      "outputs": [
        {
          "output_type": "stream",
          "text": [
            "Month 1: payment is 108334\n",
            "Month 2: payment is 107500\n",
            "Month 3: payment is 106667\n",
            "Month 4: payment is 105834\n",
            "Month 5: payment is 105000\n",
            "Month 6: payment is 104167\n",
            "Month 7: payment is 103334\n",
            "Month 8: payment is 102500\n",
            "Month 9: payment is 101667\n",
            "Month 10: payment is 100834\n",
            "\n",
            "Overpayment = 45837\n"
          ],
          "name": "stdout"
        }
      ]
    }
  ]
}