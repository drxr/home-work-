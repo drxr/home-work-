{
  "nbformat": 4,
  "nbformat_minor": 0,
  "metadata": {
    "colab": {
      "name": "Untitled15.ipynb",
      "provenance": [],
      "authorship_tag": "ABX9TyM8JdxaM/ErMgq6rOnPOVsm",
      "include_colab_link": true
    },
    "kernelspec": {
      "name": "python3",
      "display_name": "Python 3"
    },
    "language_info": {
      "name": "python"
    }
  },
  "cells": [
    {
      "cell_type": "markdown",
      "metadata": {
        "id": "view-in-github",
        "colab_type": "text"
      },
      "source": [
        "<a href=\"https://colab.research.google.com/github/drxr/home-work-/blob/main/Untitled15.ipynb\" target=\"_parent\"><img src=\"https://colab.research.google.com/assets/colab-badge.svg\" alt=\"Open In Colab\"/></a>"
      ]
    },
    {
      "cell_type": "code",
      "metadata": {
        "colab": {
          "base_uri": "https://localhost:8080/"
        },
        "id": "M-_1CAEpFY3d",
        "outputId": "fd4ae9e9-8b9b-43fc-b20f-7bc30a7107bc"
      },
      "source": [
        "import math\n",
        "\n",
        "\n",
        "loan = int(input('Enter the loan principal:\\n'))\n",
        "choice = input('''What do you want to calculate?\n",
        "type \"m\" for number of monthly payments,\n",
        "type \"p\" for the monthly payment\\n''')\n",
        "if choice == 'm':\n",
        "    monthly_payment = int(input('Enter the monthly payment:\\n'))\n",
        "    print(f'It will take {math.ceil(loan / monthly_payment)} months to repay the loan')\n",
        "elif choice == 'p':\n",
        "    months = int(input('Enter the number of months:\\n'))\n",
        "    payment = int(loan / months)\n",
        "    last_payment = loan - (months - 1) * payment\n",
        "    if payment == last_payment:\n",
        "        print(f'Your monthly payment = {payment}')\n",
        "    else:\n",
        "        print(f'Your monthly payment = {payment:.{0}f} and the last payment = {last_payment:.{0}f}.')\n"
      ],
      "execution_count": null,
      "outputs": [
        {
          "output_type": "stream",
          "text": [
            "Enter the loan principal:\n",
            "1000\n",
            "What do you want to calculate?\n",
            "type \"m\" for number of monthly payments,\n",
            "type \"p\" for the monthly payment\n",
            "p\n",
            "Enter the number of months:\n",
            "9\n",
            "Your monthly payment = 111 and the last payment = 112.\n"
          ],
          "name": "stdout"
        }
      ]
    },
    {
      "cell_type": "code",
      "metadata": {
        "id": "Rp1aea9LeGNl"
      },
      "source": [
        "import math\n",
        "import argparse\n",
        "\n",
        "\n",
        "def number_of_payments(loan, payment, interest):\n",
        "    interest_rate = interest / 1200\n",
        "    periods = math.ceil(math.log((payment / (payment - interest_rate * loan)), (1 + interest_rate)))\n",
        "    overpay = periods * payment - loan\n",
        "    if periods < 12:\n",
        "        print(f'It will take {periods} months to repay this loan!')\n",
        "        print(f'Overpayment = {overpay}')\n",
        "    else:\n",
        "        print(f'It will take {periods // 12} years and {periods % 12} months to repay this loan!')\n",
        "        print(f'Overpayment = {overpay}')\n",
        "\n",
        "\n",
        "def monthly_payment(loan, periods, interest):\n",
        "    interest_rate = interest / 1200\n",
        "    monthly_payment = math.ceil(loan * (interest_rate + interest_rate / ((1 + interest_rate) ** periods - 1)))\n",
        "    print(f'Your monthly payment = {monthly_payment}!')\n",
        "    print(f'Overpayment = {monthly_payment * periods - loan}')\n",
        "\n",
        "\n",
        "\n",
        "def principal(payment, periods, interest):\n",
        "    interest_rate = interest / 1200\n",
        "    loan_amount = payment / ((interest_rate * (1 + interest_rate) ** periods) / (((1 + interest_rate) ** periods) - 1))\n",
        "    overpay = payment * periods - loan_amount\n",
        "    print(f'Your loan principal = {int(loan_amount)}!')\n",
        "    print(f'Overpayment = {overpay}')\n",
        "\n",
        "\n",
        "def different(loan, periods, interest):\n",
        "    interest_rate = interest / 1200\n",
        "    total_payment = 0\n",
        "    for month in range(1, periods+1):\n",
        "        payment = math.ceil(loan / periods + interest_rate * (loan - loan * (month - 1) / periods))\n",
        "        total_payment += payment\n",
        "        print(f'Month {month}: payment is {payment}')\n",
        "        print(f'\\nOverpayment = {total_payment - loan}')\n",
        "\n",
        "\n",
        "parser = argparse.ArgumentParser()\n",
        "parser.add_argument('--type')\n",
        "parser.add_argument('--principal')\n",
        "parser.add_argument('--periods')\n",
        "parser.add_argument('--interest')\n",
        "parser.add_argument('--payment')\n",
        "args = parser.parse_args()\n",
        "\n",
        "chosen_args = [args.type, args.principal, args.periods, args.interest, args.payment]\n",
        "chosen_args = [element for element in chosen_args if element is not None]\n",
        "if len(chosen_args) < 4 or args.type not in ['diff', 'annuity']:\n",
        "    print('Incorrect parameters')\n",
        "elif args.type == 'diff' and args.payment is not None:\n",
        "    print('Incorrect parameters')\n",
        "elif args.type == 'annuity':\n",
        "    if args.principal is not None and args.periods is not None:\n",
        "        monthly_payment(float(args.principal), float(args.periods), float(args.interest))\n",
        "    elif args.principal is not None and args.payment is not None:\n",
        "        number_of_payments(float(args.principal), float(args.payment), float(args.interest))\n",
        "    elif args.payment is not None and args.periods is not None:\n",
        "        principal(float(args.payment), int(args.periods), float(args.interest))\n",
        "elif args.type == 'diff':\n",
        "    different(float(args.principal), int(args.periods), float(args.interest))\n"
      ],
      "execution_count": null,
      "outputs": []
    },
    {
      "cell_type": "code",
      "metadata": {
        "colab": {
          "base_uri": "https://localhost:8080/",
          "height": 35
        },
        "id": "u75xmtaEX9pe",
        "outputId": "2fc8dfb0-1b96-4a54-b2d2-5f4b22b3e291"
      },
      "source": [
        "import os\n",
        "os.getcwd()"
      ],
      "execution_count": 5,
      "outputs": [
        {
          "output_type": "execute_result",
          "data": {
            "application/vnd.google.colaboratory.intrinsic+json": {
              "type": "string"
            },
            "text/plain": [
              "'/content'"
            ]
          },
          "metadata": {
            "tags": []
          },
          "execution_count": 5
        }
      ]
    },
    {
      "cell_type": "code",
      "metadata": {
        "colab": {
          "base_uri": "https://localhost:8080/"
        },
        "id": "Yg2eBr6sY1dG",
        "outputId": "3a0e91a6-699b-49d8-d1a0-6042f77359c7"
      },
      "source": [
        "!bash python start.py --type annuity --periods 15 --payment 10000 --interest 10 "
      ],
      "execution_count": 5,
      "outputs": [
        {
          "output_type": "stream",
          "text": [
            "Your loan principal = 140455!\n"
          ],
          "name": "stdout"
        }
      ]
    },
    {
      "cell_type": "code",
      "metadata": {
        "id": "SCsTKdIiam9J"
      },
      "source": [
        "import argparse\n",
        "parser = argparse.ArgumentParser()\n",
        "parser.add_argument('--arg1')\n",
        "parser.add_argument('--arg2')\n",
        "\n",
        "args = parser.parse_args()\n",
        "print(args)"
      ],
      "execution_count": null,
      "outputs": []
    }
  ]
}